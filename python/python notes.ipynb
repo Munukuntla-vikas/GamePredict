{
 "cells": [
  {
   "cell_type": "markdown",
   "id": "189c17c6",
   "metadata": {},
   "source": [
    "# python fundamentals"
   ]
  },
  {
   "cell_type": "raw",
   "id": "e4943632",
   "metadata": {},
   "source": []
  },
  {
   "cell_type": "raw",
   "id": "2031b9b5",
   "metadata": {},
   "source": [
    "python keywords"
   ]
  },
  {
   "cell_type": "code",
   "execution_count": 1,
   "id": "16e4a745",
   "metadata": {},
   "outputs": [
    {
     "data": {
      "text/plain": [
       "(True, False, None)"
      ]
     },
     "execution_count": 1,
     "metadata": {},
     "output_type": "execute_result"
    }
   ],
   "source": [
    "True,False,None\n",
    "and or not is in as\n",
    "if elif else \n",
    "while for break  continue pass \n",
    "def return yield import\n",
    "try except finally raise assert\n",
    "from class global nonlocal lambda del with async await"
   ]
  },
  {
   "cell_type": "code",
   "execution_count": 2,
   "id": "da6bd837",
   "metadata": {},
   "outputs": [
    {
     "data": {
      "text/plain": [
       "['False',\n",
       " 'None',\n",
       " 'True',\n",
       " '__peg_parser__',\n",
       " 'and',\n",
       " 'as',\n",
       " 'assert',\n",
       " 'async',\n",
       " 'await',\n",
       " 'break',\n",
       " 'class',\n",
       " 'continue',\n",
       " 'def',\n",
       " 'del',\n",
       " 'elif',\n",
       " 'else',\n",
       " 'except',\n",
       " 'finally',\n",
       " 'for',\n",
       " 'from',\n",
       " 'global',\n",
       " 'if',\n",
       " 'import',\n",
       " 'in',\n",
       " 'is',\n",
       " 'lambda',\n",
       " 'nonlocal',\n",
       " 'not',\n",
       " 'or',\n",
       " 'pass',\n",
       " 'raise',\n",
       " 'return',\n",
       " 'try',\n",
       " 'while',\n",
       " 'with',\n",
       " 'yield']"
      ]
     },
     "execution_count": 2,
     "metadata": {},
     "output_type": "execute_result"
    }
   ],
   "source": [
    "import keyword\n",
    "keyword.kwlist"
   ]
  },
  {
   "cell_type": "markdown",
   "id": "c5f755cf",
   "metadata": {},
   "source": [
    "Identifiers"
   ]
  },
  {
   "cell_type": "code",
   "execution_count": null,
   "id": "f2e9a330",
   "metadata": {},
   "outputs": [],
   "source": [
    "def add(a)\n",
    "a=10\n",
    "#in lowercase\n",
    "#don't start with numbers or symbols\n",
    "#you can start with underscore"
   ]
  },
  {
   "cell_type": "markdown",
   "id": "019a9b97",
   "metadata": {},
   "source": [
    "Datatypes"
   ]
  },
  {
   "cell_type": "markdown",
   "id": "06a98d7e",
   "metadata": {},
   "source": [
    "numeric--integer,float,complex\n",
    "boolean--True,False\n",
    "string--string\n",
    "bytes,bytearray\n",
    "\n",
    "list,tuple,set,frozenset,dictionary"
   ]
  },
  {
   "cell_type": "markdown",
   "id": "3e769bf8",
   "metadata": {},
   "source": []
  },
  {
   "cell_type": "markdown",
   "id": "6be0bcab",
   "metadata": {
    "collapsed": true
   },
   "source": []
  },
  {
   "cell_type": "markdown",
   "id": "bab3bcb5",
   "metadata": {},
   "source": [
    "int datatypes\n"
   ]
  },
  {
   "cell_type": "code",
   "execution_count": 5,
   "id": "98bec741",
   "metadata": {},
   "outputs": [
    {
     "name": "stdout",
     "output_type": "stream",
     "text": [
      "6\n",
      "110\n"
     ]
    }
   ],
   "source": [
    "n=bin(int(input()))[2:]\n",
    "print(n)"
   ]
  },
  {
   "cell_type": "code",
   "execution_count": 9,
   "id": "33bd69a7",
   "metadata": {},
   "outputs": [],
   "source": [
    "#types of number system\n",
    "a=0b101  #binary number\n",
    "a=123    #decimal number\n",
    "a=0o123  #octa number\n",
    "a=0x1A2c #hexa decimal number\n"
   ]
  },
  {
   "cell_type": "code",
   "execution_count": 11,
   "id": "e71025ab",
   "metadata": {},
   "outputs": [
    {
     "data": {
      "text/plain": [
       "1777869081680"
      ]
     },
     "execution_count": 11,
     "metadata": {},
     "output_type": "execute_result"
    }
   ],
   "source": [
    "#inbuild functions\n",
    "type(a) #checks datatype\n",
    "id(a) #address of variable\n",
    "\n",
    "\n"
   ]
  },
  {
   "cell_type": "code",
   "execution_count": 12,
   "id": "380c8e8b",
   "metadata": {},
   "outputs": [
    {
     "data": {
      "text/plain": [
       "float"
      ]
     },
     "execution_count": 12,
     "metadata": {},
     "output_type": "execute_result"
    }
   ],
   "source": [
    "#float\n",
    "a=1.2\n",
    "type(a)"
   ]
  },
  {
   "cell_type": "code",
   "execution_count": null,
   "id": "81bd3c2f",
   "metadata": {},
   "outputs": [],
   "source": [
    "a=1.2222222222\n",
    "a=1.2e3\n"
   ]
  },
  {
   "cell_type": "code",
   "execution_count": 13,
   "id": "46df844f",
   "metadata": {},
   "outputs": [
    {
     "name": "stdout",
     "output_type": "stream",
     "text": [
      "0x64 0o144 0b1100100\n"
     ]
    }
   ],
   "source": [
    "a=100\n",
    "b=hex(a)\n",
    "c=oct(a)\n",
    "d=bin(a)\n",
    "print(b,c,d)"
   ]
  },
  {
   "cell_type": "code",
   "execution_count": 14,
   "id": "b5846e76",
   "metadata": {},
   "outputs": [
    {
     "data": {
      "text/plain": [
       "complex"
      ]
     },
     "execution_count": 14,
     "metadata": {},
     "output_type": "execute_result"
    }
   ],
   "source": [
    "#complex datatype\n",
    "k=1+2j\n",
    "type(k)"
   ]
  },
  {
   "cell_type": "code",
   "execution_count": 21,
   "id": "fccae392",
   "metadata": {},
   "outputs": [
    {
     "name": "stdout",
     "output_type": "stream",
     "text": [
      "False\n"
     ]
    }
   ],
   "source": [
    "#boolean datatype\n",
    "a=\"\"\n",
    "b=bool(a)\n",
    "print(b)"
   ]
  },
  {
   "cell_type": "code",
   "execution_count": 22,
   "id": "179009d7",
   "metadata": {},
   "outputs": [
    {
     "data": {
      "text/plain": [
       "''"
      ]
     },
     "execution_count": 22,
     "metadata": {},
     "output_type": "execute_result"
    }
   ],
   "source": [
    "#string datatypes\n",
    "#typecasting or type conversion\n",
    "int()\n",
    "float()\n",
    "complex()\n",
    "bool()\n",
    "str()\n"
   ]
  },
  {
   "cell_type": "code",
   "execution_count": 24,
   "id": "c5713498",
   "metadata": {},
   "outputs": [
    {
     "name": "stdout",
     "output_type": "stream",
     "text": [
      "1\n"
     ]
    }
   ],
   "source": [
    "a=1.9\n",
    "b=int(a)\n",
    "print(b)"
   ]
  },
  {
   "cell_type": "code",
   "execution_count": 25,
   "id": "1bc84c73",
   "metadata": {},
   "outputs": [
    {
     "data": {
      "text/plain": [
       "1"
      ]
     },
     "execution_count": 25,
     "metadata": {},
     "output_type": "execute_result"
    }
   ],
   "source": [
    "int(1.6852)"
   ]
  },
  {
   "cell_type": "code",
   "execution_count": 27,
   "id": "ab4c61be",
   "metadata": {},
   "outputs": [
    {
     "name": "stdout",
     "output_type": "stream",
     "text": [
      "(1+0j)\n"
     ]
    }
   ],
   "source": [
    "a=1\n",
    "b=complex(a)\n",
    "print(b)"
   ]
  },
  {
   "cell_type": "code",
   "execution_count": 34,
   "id": "8bb01e68",
   "metadata": {},
   "outputs": [
    {
     "data": {
      "text/plain": [
       "100"
      ]
     },
     "execution_count": 34,
     "metadata": {},
     "output_type": "execute_result"
    }
   ],
   "source": [
    "int(\"100\")"
   ]
  },
  {
   "cell_type": "code",
   "execution_count": 37,
   "id": "0757ea83",
   "metadata": {},
   "outputs": [
    {
     "data": {
      "text/plain": [
       "10.5"
      ]
     },
     "execution_count": 37,
     "metadata": {},
     "output_type": "execute_result"
    }
   ],
   "source": [
    "float(\"10.5\")"
   ]
  },
  {
   "cell_type": "code",
   "execution_count": 45,
   "id": "c9f15ede",
   "metadata": {},
   "outputs": [
    {
     "data": {
      "text/plain": [
       "(2+2j)"
      ]
     },
     "execution_count": 45,
     "metadata": {},
     "output_type": "execute_result"
    }
   ],
   "source": [
    "complex(0b10,0b10)"
   ]
  },
  {
   "cell_type": "code",
   "execution_count": 51,
   "id": "1fa23f2f",
   "metadata": {},
   "outputs": [
    {
     "data": {
      "text/plain": [
       "False"
      ]
     },
     "execution_count": 51,
     "metadata": {},
     "output_type": "execute_result"
    }
   ],
   "source": [
    "bool(None)"
   ]
  },
  {
   "cell_type": "code",
   "execution_count": null,
   "id": "d6a46d09",
   "metadata": {},
   "outputs": [],
   "source": [
    "#mutable\n",
    "bytes\n",
    "bytesarry\n",
    "\n",
    "#immutable\n",
    "str\n",
    "complex\n",
    "int\n",
    "float\n",
    "bool"
   ]
  },
  {
   "cell_type": "code",
   "execution_count": 64,
   "id": "895cacdb",
   "metadata": {},
   "outputs": [
    {
     "data": {
      "text/plain": [
       "(1777785596496, 1777785596496)"
      ]
     },
     "execution_count": 64,
     "metadata": {},
     "output_type": "execute_result"
    }
   ],
   "source": [
    "a=10\n",
    "b=10\n",
    "id(a),id(b)\n"
   ]
  },
  {
   "cell_type": "code",
   "execution_count": 60,
   "id": "11d2a857",
   "metadata": {},
   "outputs": [
    {
     "data": {
      "text/plain": [
       "b'\\x00\\x00\\x00\\x00\\x00\\x00\\x00\\x00\\x00\\x00\\x00\\x00\\x00\\x00\\x00\\x00\\x00\\x00\\x00\\x00\\x00\\x00\\x00\\x00\\x00\\x00\\x00\\x00\\x00\\x00\\x00\\x00\\x00\\x00\\x00\\x00\\x00\\x00\\x00\\x00\\x00\\x00\\x00\\x00\\x00\\x00\\x00\\x00\\x00\\x00\\x00\\x00\\x00\\x00\\x00\\x00\\x00\\x00\\x00\\x00\\x00\\x00\\x00\\x00\\x00\\x00\\x00\\x00\\x00\\x00\\x00\\x00\\x00\\x00\\x00\\x00\\x00\\x00\\x00\\x00\\x00\\x00\\x00\\x00\\x00\\x00\\x00\\x00\\x00\\x00\\x00\\x00\\x00\\x00\\x00\\x00\\x00\\x00\\x00\\x00'"
      ]
     },
     "execution_count": 60,
     "metadata": {},
     "output_type": "execute_result"
    }
   ],
   "source": [
    "#bytes and bytes arry\n",
    "bytes(100)"
   ]
  },
  {
   "cell_type": "code",
   "execution_count": 63,
   "id": "bc1213c4",
   "metadata": {},
   "outputs": [
    {
     "data": {
      "text/plain": [
       "b'\\x02\\x03\\x07'"
      ]
     },
     "execution_count": 63,
     "metadata": {},
     "output_type": "execute_result"
    }
   ],
   "source": [
    "#bytesarry\n",
    "x=[0b10,0b11,0b111]\n",
    "x=bytes(x)\n",
    "x"
   ]
  },
  {
   "cell_type": "code",
   "execution_count": 1,
   "id": "91999579",
   "metadata": {},
   "outputs": [
    {
     "name": "stdout",
     "output_type": "stream",
     "text": [
      "the sum of 6 and 7 is 13\n"
     ]
    }
   ],
   "source": [
    "#format function\n",
    "a=6\n",
    "b=7\n",
    "c=a+b\n",
    "print(f\"the sum of {a} and {b} is {c}\")"
   ]
  },
  {
   "cell_type": "code",
   "execution_count": 2,
   "id": "fbfb7a9a",
   "metadata": {},
   "outputs": [
    {
     "data": {
      "text/plain": [
       "dict"
      ]
     },
     "execution_count": 2,
     "metadata": {},
     "output_type": "execute_result"
    }
   ],
   "source": [
    "#datatpes\n",
    "list #mutable\n",
    "tuple #immutable\n",
    "set #mutable\n",
    "frozenset #immutable\n",
    "dict   #mutable\n"
   ]
  },
  {
   "cell_type": "code",
   "execution_count": 5,
   "id": "84283c84",
   "metadata": {},
   "outputs": [],
   "source": [
    "a=[1,2,34,5] #list\n",
    "b=(1,2,3,4)  #tuple\n",
    "c={1,2,3}    #set\n",
    "d=frozenset(c)#frozenset\n",
    "e={'a':1,'b':2}   #dictionary"
   ]
  },
  {
   "cell_type": "markdown",
   "id": "f97d20d9",
   "metadata": {},
   "source": [
    "# Operators"
   ]
  },
  {
   "cell_type": "markdown",
   "id": "57ffb295",
   "metadata": {},
   "source": [
    "arthimatic operators\n",
    "comparison  operators\n",
    "membership operators \n",
    "identity operators\n",
    "bitwise operators\n",
    "logical operators\n",
    "assignment operators"
   ]
  },
  {
   "cell_type": "code",
   "execution_count": 2,
   "id": "7e793026",
   "metadata": {},
   "outputs": [
    {
     "data": {
      "text/plain": [
       "100000"
      ]
     },
     "execution_count": 2,
     "metadata": {},
     "output_type": "execute_result"
    }
   ],
   "source": [
    "#arthimatic operators\n",
    "a=10\n",
    "b=5\n",
    "a+b\n",
    "a-b\n",
    "a*b\n",
    "a/b\n",
    "a%b\n",
    "a//b\n",
    "a**b\n"
   ]
  },
  {
   "cell_type": "code",
   "execution_count": 3,
   "id": "212b6805",
   "metadata": {},
   "outputs": [
    {
     "data": {
      "text/plain": [
       "True"
      ]
     },
     "execution_count": 3,
     "metadata": {},
     "output_type": "execute_result"
    }
   ],
   "source": [
    "#comparison operators\n",
    "a==b\n",
    "a>b\n",
    "a<b\n",
    "a>=b\n",
    "a<=b\n",
    "a!=b"
   ]
  },
  {
   "cell_type": "code",
   "execution_count": 39,
   "id": "1205fe65",
   "metadata": {},
   "outputs": [
    {
     "ename": "SyntaxError",
     "evalue": "invalid syntax (2763360490.py, line 2)",
     "output_type": "error",
     "traceback": [
      "\u001b[1;36m  File \u001b[1;32m\"C:\\Users\\munuk\\AppData\\Local\\Temp\\ipykernel_26048\\2763360490.py\"\u001b[1;36m, line \u001b[1;32m2\u001b[0m\n\u001b[1;33m    in\u001b[0m\n\u001b[1;37m    ^\u001b[0m\n\u001b[1;31mSyntaxError\u001b[0m\u001b[1;31m:\u001b[0m invalid syntax\n"
     ]
    }
   ],
   "source": [
    "#membership operator\n",
    "#in \n",
    "#not in\n",
    "#example\n",
    "abc=[1,2,3,4]\n",
    "print(1 in abc)"
   ]
  },
  {
   "cell_type": "code",
   "execution_count": null,
   "id": "39b64689",
   "metadata": {},
   "outputs": [],
   "source": []
  },
  {
   "cell_type": "code",
   "execution_count": 33,
   "id": "77fe10f3",
   "metadata": {},
   "outputs": [
    {
     "data": {
      "text/plain": [
       "True"
      ]
     },
     "execution_count": 33,
     "metadata": {},
     "output_type": "execute_result"
    }
   ],
   "source": [
    "#identity operator\n",
    "is\n",
    "not is\n",
    "#example\n",
    "a=1\n",
    "b=1\n",
    "a is b\n",
    "\n",
    "   "
   ]
  },
  {
   "cell_type": "code",
   "execution_count": 16,
   "id": "c5dcfb3d",
   "metadata": {},
   "outputs": [
    {
     "data": {
      "text/plain": [
       "0"
      ]
     },
     "execution_count": 16,
     "metadata": {},
     "output_type": "execute_result"
    }
   ],
   "source": [
    "#bitwise operator\n",
    "a=2\n",
    "b=1\n",
    "a&b"
   ]
  },
  {
   "cell_type": "code",
   "execution_count": 17,
   "id": "2a6c2be2",
   "metadata": {},
   "outputs": [
    {
     "data": {
      "text/plain": [
       "3"
      ]
     },
     "execution_count": 17,
     "metadata": {},
     "output_type": "execute_result"
    }
   ],
   "source": [
    "a|b"
   ]
  },
  {
   "cell_type": "code",
   "execution_count": 18,
   "id": "ed6c1440",
   "metadata": {},
   "outputs": [
    {
     "data": {
      "text/plain": [
       "3"
      ]
     },
     "execution_count": 18,
     "metadata": {},
     "output_type": "execute_result"
    }
   ],
   "source": [
    "a^b"
   ]
  },
  {
   "cell_type": "code",
   "execution_count": 20,
   "id": "f4b7a4d1",
   "metadata": {},
   "outputs": [
    {
     "data": {
      "text/plain": [
       "4"
      ]
     },
     "execution_count": 20,
     "metadata": {},
     "output_type": "execute_result"
    }
   ],
   "source": [
    "a<<1"
   ]
  },
  {
   "cell_type": "code",
   "execution_count": 21,
   "id": "287fae64",
   "metadata": {},
   "outputs": [
    {
     "data": {
      "text/plain": [
       "1"
      ]
     },
     "execution_count": 21,
     "metadata": {},
     "output_type": "execute_result"
    }
   ],
   "source": [
    "a>>1"
   ]
  },
  {
   "cell_type": "code",
   "execution_count": 22,
   "id": "09ee548d",
   "metadata": {},
   "outputs": [
    {
     "data": {
      "text/plain": [
       "2"
      ]
     },
     "execution_count": 22,
     "metadata": {},
     "output_type": "execute_result"
    }
   ],
   "source": [
    "#logical operators\n",
    "a=1\n",
    "b=2\n",
    "a and b"
   ]
  },
  {
   "cell_type": "code",
   "execution_count": 23,
   "id": "1e5a46c6",
   "metadata": {},
   "outputs": [
    {
     "data": {
      "text/plain": [
       "1"
      ]
     },
     "execution_count": 23,
     "metadata": {},
     "output_type": "execute_result"
    }
   ],
   "source": [
    "a or b"
   ]
  },
  {
   "cell_type": "code",
   "execution_count": 25,
   "id": "e329dbc2",
   "metadata": {},
   "outputs": [
    {
     "data": {
      "text/plain": [
       "6"
      ]
     },
     "execution_count": 25,
     "metadata": {},
     "output_type": "execute_result"
    }
   ],
   "source": [
    "#assigment operators\n",
    "a=5\n",
    "a+=1\n",
    "a"
   ]
  },
  {
   "cell_type": "code",
   "execution_count": 29,
   "id": "64cb61a9",
   "metadata": {},
   "outputs": [
    {
     "data": {
      "text/plain": [
       "1"
      ]
     },
     "execution_count": 29,
     "metadata": {},
     "output_type": "execute_result"
    }
   ],
   "source": [
    "a=3\n",
    "a%=2\n",
    "a"
   ]
  },
  {
   "cell_type": "code",
   "execution_count": 30,
   "id": "f322ee91",
   "metadata": {},
   "outputs": [
    {
     "data": {
      "text/plain": [
       "4"
      ]
     },
     "execution_count": 30,
     "metadata": {},
     "output_type": "execute_result"
    }
   ],
   "source": [
    "a=2\n",
    "a**=2\n",
    "a\n"
   ]
  },
  {
   "cell_type": "code",
   "execution_count": 32,
   "id": "fa9573f1",
   "metadata": {},
   "outputs": [
    {
     "data": {
      "text/plain": [
       "1"
      ]
     },
     "execution_count": 32,
     "metadata": {},
     "output_type": "execute_result"
    }
   ],
   "source": [
    "a=15\n",
    "b=2\n",
    "a%b"
   ]
  },
  {
   "cell_type": "code",
   "execution_count": 37,
   "id": "bf772220",
   "metadata": {},
   "outputs": [
    {
     "data": {
      "text/plain": [
       "1"
      ]
     },
     "execution_count": 37,
     "metadata": {},
     "output_type": "execute_result"
    }
   ],
   "source": [
    "a//1\n"
   ]
  },
  {
   "cell_type": "markdown",
   "id": "ea71b07b",
   "metadata": {},
   "source": [
    "# flowcontrol"
   ]
  },
  {
   "cell_type": "markdown",
   "id": "41940081",
   "metadata": {},
   "source": [
    "1.control statement\n",
    "   if\n",
    "   elif\n",
    "   else\n",
    "2.transfer statement\n",
    "   break\n",
    "   continue\n",
    "   pass\n",
    "3.iterative statement\n",
    "   for\n",
    "   while"
   ]
  },
  {
   "cell_type": "markdown",
   "id": "f89e6f32",
   "metadata": {},
   "source": [
    "wap to check wheather a number is non negative"
   ]
  },
  {
   "cell_type": "code",
   "execution_count": 40,
   "id": "9d9a36b9",
   "metadata": {},
   "outputs": [
    {
     "name": "stdout",
     "output_type": "stream",
     "text": [
      "5\n",
      "non negative\n"
     ]
    }
   ],
   "source": [
    "a=int(input())\n",
    "if a>=0:\n",
    "    print(\"non negative\")"
   ]
  },
  {
   "cell_type": "code",
   "execution_count": null,
   "id": "3bb40341",
   "metadata": {},
   "outputs": [],
   "source": []
  },
  {
   "cell_type": "markdown",
   "id": "993158b4",
   "metadata": {},
   "source": [
    "wap to check positive or negative"
   ]
  },
  {
   "cell_type": "code",
   "execution_count": 41,
   "id": "ddae0c69",
   "metadata": {},
   "outputs": [
    {
     "name": "stdout",
     "output_type": "stream",
     "text": [
      "positive\n"
     ]
    }
   ],
   "source": [
    "if a>0:\n",
    "    print(\"positive\")\n",
    "elif a<0:\n",
    "    print(\"negative\")"
   ]
  },
  {
   "cell_type": "markdown",
   "id": "b92fbaca",
   "metadata": {},
   "source": [
    "wap wheather a number is divisble by 3or 5 or 7"
   ]
  },
  {
   "cell_type": "code",
   "execution_count": 42,
   "id": "899b72a8",
   "metadata": {},
   "outputs": [
    {
     "name": "stdout",
     "output_type": "stream",
     "text": [
      "no\n"
     ]
    }
   ],
   "source": [
    "if a%3==0 and a%5==0 and a%7==0:\n",
    "    print(\"yes\")\n",
    "else:\n",
    "    print(\"no\")"
   ]
  },
  {
   "cell_type": "markdown",
   "id": "9f0bb673",
   "metadata": {},
   "source": [
    "pratice examples"
   ]
  },
  {
   "cell_type": "code",
   "execution_count": 10,
   "id": "63fe1f42",
   "metadata": {},
   "outputs": [
    {
     "name": "stdout",
     "output_type": "stream",
     "text": [
      "not single digit\n"
     ]
    }
   ],
   "source": [
    "a=13\n",
    "if a>=10:\n",
    "    print(\"not single digit\")"
   ]
  },
  {
   "cell_type": "code",
   "execution_count": 11,
   "id": "31cbe885",
   "metadata": {},
   "outputs": [
    {
     "name": "stdout",
     "output_type": "stream",
     "text": [
      "not single digit\n"
     ]
    }
   ],
   "source": [
    "if a>=10:\n",
    "    print(\"not single digit\")\n",
    "else:\n",
    "    print(\"single digit\")"
   ]
  },
  {
   "cell_type": "code",
   "execution_count": 12,
   "id": "16631527",
   "metadata": {},
   "outputs": [
    {
     "name": "stdout",
     "output_type": "stream",
     "text": [
      "None\n"
     ]
    }
   ],
   "source": [
    "if a%2==0:\n",
    "    print(2)\n",
    "elif a%3==0:\n",
    "    print(3)\n",
    "elif a%5==0:\n",
    "    print(5)\n",
    "else:\n",
    "    print(None)"
   ]
  },
  {
   "cell_type": "markdown",
   "id": "aa74c1b2",
   "metadata": {},
   "source": [
    "# Loops"
   ]
  },
  {
   "cell_type": "code",
   "execution_count": 8,
   "id": "af82e371",
   "metadata": {},
   "outputs": [
    {
     "name": "stdout",
     "output_type": "stream",
     "text": [
      "5\n",
      "1\n",
      "1\n",
      "1\n",
      "1\n",
      "1\n",
      "1\n",
      "1\n",
      "1\n",
      "1\n",
      "1\n",
      "1\n",
      "1\n",
      "1\n",
      "1\n",
      "1\n",
      "1\n",
      "1\n",
      "1\n",
      "1\n",
      "1\n"
     ]
    }
   ],
   "source": [
    "#for loops\n",
    "\n",
    "a=int(input())\n",
    "for i in range(a):\n",
    "    for j in range(1,a):\n",
    "        print(\"1\")"
   ]
  },
  {
   "cell_type": "code",
   "execution_count": null,
   "id": "e8e890b6",
   "metadata": {},
   "outputs": [],
   "source": []
  }
 ],
 "metadata": {
  "kernelspec": {
   "display_name": "Python 3 (ipykernel)",
   "language": "python",
   "name": "python3"
  },
  "language_info": {
   "codemirror_mode": {
    "name": "ipython",
    "version": 3
   },
   "file_extension": ".py",
   "mimetype": "text/x-python",
   "name": "python",
   "nbconvert_exporter": "python",
   "pygments_lexer": "ipython3",
   "version": "3.9.13"
  }
 },
 "nbformat": 4,
 "nbformat_minor": 5
}
